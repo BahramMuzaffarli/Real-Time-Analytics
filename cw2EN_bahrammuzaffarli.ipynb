{
 "cells": [
  {
   "cell_type": "markdown",
   "metadata": {},
   "source": [
    "# API \n",
    "From previous exercises [cw1](https://sebkaz-teaching.github.io/RTA_2024EN/lab/lab1.html) you already know how to write and run a basic program for our API.\n",
    "\n",
    "1. Copy the basic Flask application code and save it to a file named app.py.\n"
   ]
  },
  {
   "cell_type": "code",
   "execution_count": 1,
   "metadata": {},
   "outputs": [
    {
     "name": "stdout",
     "output_type": "stream",
     "text": [
      "Overwriting app.py\n"
     ]
    }
   ],
   "source": [
    "%%file app.py\n",
    "\n",
    "from flask import Flask\n",
    "\n",
    "app = Flask(__name__)\n",
    "\n",
    "@app.route('/')\n",
    "def home():\n",
    "    return 'Welcome to the home page'\n",
    "\n",
    "if __name__ == '__main__':\n",
    "    app.run(debug=True)\n"
   ]
  },
  {
   "cell_type": "markdown",
   "metadata": {},
   "source": [
    "2. Go to the terminal (in the appropriate directory) and run the API using the command flask run.\n",
    "3. Write code to query the home page (using the `get()` method) using the `requests` library. \n",
    "Assign the result to the variable `res`."
   ]
  },
  {
   "cell_type": "code",
   "execution_count": 2,
   "metadata": {},
   "outputs": [
    {
     "name": "stdout",
     "output_type": "stream",
     "text": [
      "200\n"
     ]
    }
   ],
   "source": [
    "import requests\n",
    "\n",
    "res = requests.get(\"http://127.0.0.1:5000/\")\n",
    "print(res.status_code)"
   ]
  },
  {
   "cell_type": "markdown",
   "metadata": {},
   "source": [
    "4. Based on the `status_code` field, write a conditional statement that will display the response `content` (from the content field) for a status_code of 200."
   ]
  },
  {
   "cell_type": "code",
   "execution_count": 4,
   "metadata": {},
   "outputs": [
    {
     "name": "stdout",
     "output_type": "stream",
     "text": [
      "b'Welcome to the home page'\n"
     ]
    }
   ],
   "source": [
    "# YOUR CODE \n",
    "if res.status_code == 200:\n",
    "    print(res.content)"
   ]
  },
  {
   "cell_type": "markdown",
   "metadata": {},
   "source": [
    "5. Add a new subpage with your name so that when it is called, the text \"<strong>This is my page</strong>\" appears. \n",
    "Save the result of the new application to the app.py file."
   ]
  },
  {
   "cell_type": "code",
   "execution_count": 5,
   "metadata": {},
   "outputs": [
    {
     "name": "stdout",
     "output_type": "stream",
     "text": [
      "Overwriting app.py\n"
     ]
    }
   ],
   "source": [
    "%%file app.py\n",
    "\n",
    "from flask import Flask\n",
    "\n",
    "app = Flask(__name__)\n",
    "\n",
    "@app.route('/')\n",
    "def home():\n",
    "    return 'Welcome to the home page'\n",
    "\n",
    "@app.route('/Bahram')\n",
    "def your_name():\n",
    "    return 'This is my page'\n",
    "\n",
    "if __name__ == '__main__':\n",
    "    app.run(debug=True)\n",
    "\n"
   ]
  },
  {
   "cell_type": "markdown",
   "metadata": {},
   "source": [
    "6. Remembering to close the previous server, start a new server from the app.py file inside the notebook using the subprocess library. \n",
    "To do this, use the `Popen()` method and the flask run command."
   ]
  },
  {
   "cell_type": "code",
   "execution_count": 6,
   "metadata": {},
   "outputs": [],
   "source": [
    "import subprocess\n",
    "\n",
    "server = subprocess.Popen([\"flask\", \"run\"], stdout=subprocess.PIPE, stderr=subprocess.PIPE)\n"
   ]
  },
  {
   "cell_type": "markdown",
   "metadata": {},
   "source": [
    "7. Execute a request to the new subpage with your name, print the status code, and the message (you should see the text \"This is my page\")."
   ]
  },
  {
   "cell_type": "code",
   "execution_count": 7,
   "metadata": {},
   "outputs": [
    {
     "name": "stdout",
     "output_type": "stream",
     "text": [
      "200\n",
      "b'This is my page'\n"
     ]
    }
   ],
   "source": [
    "import requests\n",
    "\n",
    "response = requests.get(\"http://127.0.0.1:5000/Bahram\")\n",
    "print(response.status_code)\n",
    "print(response.content)\n"
   ]
  },
  {
   "cell_type": "markdown",
   "metadata": {},
   "source": [
    "8. Close the subprocess with the server using the `kill()` method."
   ]
  },
  {
   "cell_type": "code",
   "execution_count": 8,
   "metadata": {},
   "outputs": [],
   "source": [
    "server.kill()"
   ]
  },
  {
   "cell_type": "markdown",
   "metadata": {},
   "source": [
    "## Sending Values to the Server - GET Method\n",
    "\n",
    "1. Copy the code for the second application and save it to a file named app.py.\n",
    "2. Import the `request` method from the Flask library.\n",
    "3. Create a third subpage named /hello, adding methods=['GET'] as a parameter to the decorator.\n",
    "4. Inside the new function, define a variable name to which you assign `request.args.get(\"name\", \"\")`. The first parameter is the name of the variable passed through the URL, and the second parameter is the default value if the variable is omitted in the URL (in our case, it will be an empty string).\n",
    "5. Check if the user provided a name. If so, return the string Hello {name}, otherwise return Hello."
   ]
  },
  {
   "cell_type": "code",
   "execution_count": 9,
   "metadata": {},
   "outputs": [
    {
     "name": "stdout",
     "output_type": "stream",
     "text": [
      "Overwriting app.py\n"
     ]
    }
   ],
   "source": [
    "%%file app.py\n",
    "\n",
    "from flask import Flask, request\n",
    "\n",
    "app = Flask(__name__)\n",
    "\n",
    "@app.route('/')\n",
    "def home():\n",
    "    return 'Welcome to the home page'\n",
    "\n",
    "@app.route('/Bahram')\n",
    "def your_name():\n",
    "    return 'This is my page'\n",
    "\n",
    "@app.route('/hello', methods=['GET'])\n",
    "def hello():\n",
    "    name = request.args.get(\"name\", \"\")\n",
    "    if name:\n",
    "        return f\"Hello {name}\"\n",
    "    else:\n",
    "        return \"Hello\"\n",
    "\n",
    "if __name__ == '__main__':\n",
    "    app.run(debug=True)\n"
   ]
  },
  {
   "cell_type": "markdown",
   "metadata": {},
   "source": [
    "Run the server in the notebook (using Popen(), flask run) and verify the two requests below."
   ]
  },
  {
   "cell_type": "code",
   "execution_count": 10,
   "metadata": {},
   "outputs": [],
   "source": [
    "server = subprocess.Popen([\"flask\", \"run\"], stdout=subprocess.PIPE, stderr=subprocess.PIPE)"
   ]
  },
  {
   "cell_type": "code",
   "execution_count": 11,
   "metadata": {},
   "outputs": [
    {
     "data": {
      "text/plain": [
       "b'Hello'"
      ]
     },
     "execution_count": 11,
     "metadata": {},
     "output_type": "execute_result"
    }
   ],
   "source": [
    "response = requests.get(\"http://127.0.0.1:5000/hello\")\n",
    "response.content"
   ]
  },
  {
   "cell_type": "markdown",
   "metadata": {},
   "source": [
    "You should see \"hello\""
   ]
  },
  {
   "cell_type": "code",
   "execution_count": 12,
   "metadata": {},
   "outputs": [
    {
     "data": {
      "text/plain": [
       "b'Hello Sebastian'"
      ]
     },
     "execution_count": 12,
     "metadata": {},
     "output_type": "execute_result"
    }
   ],
   "source": [
    "response = requests.get(\"http://127.0.0.1:5000/hello?name=Sebastian\")\n",
    "response.content"
   ]
  },
  {
   "cell_type": "code",
   "execution_count": 13,
   "metadata": {},
   "outputs": [],
   "source": [
    "server.kill()"
   ]
  },
  {
   "cell_type": "markdown",
   "metadata": {},
   "source": [
    "You should see \"hello Sebastian\""
   ]
  },
  {
   "cell_type": "markdown",
   "metadata": {},
   "source": [
    "## Model - Decision Rule\n",
    "\n",
    "Write an API service that will handle a single endpoint /api/v1.0/predict and accept two numbers (if the user does not provide a number, it should default to 0).\n",
    "Define the model as follows:\n",
    "\n",
    "- If the sum of the two numbers is greater than 5.8, return the value 1 as the prediction.\n",
    "- Otherwise, return 0.\n",
    "The entire subpage should return a dictionary containing two keys: \"prediction\" and \"features\" with the appropriate feedback information.\n",
    "\n",
    "Run and verify the correctness of its operation."
   ]
  },
  {
   "cell_type": "code",
   "execution_count": 14,
   "metadata": {},
   "outputs": [
    {
     "name": "stdout",
     "output_type": "stream",
     "text": [
      "Overwriting app.py\n"
     ]
    }
   ],
   "source": [
    "%%file app.py\n",
    "\n",
    "from flask import Flask, request, jsonify\n",
    "\n",
    "app = Flask(__name__)\n",
    "\n",
    "@app.route('/')\n",
    "def home():\n",
    "    return 'Welcome to the home page'\n",
    "\n",
    "@app.route('/Bahram')\n",
    "def your_name():\n",
    "    return 'This is my page'\n",
    "\n",
    "@app.route('/hello', methods=['GET'])\n",
    "def hello():\n",
    "    name = request.args.get(\"name\", \"\")\n",
    "    if name:\n",
    "        return f\"Hello {name}\"\n",
    "    else:\n",
    "        return \"Hello\"\n",
    "\n",
    "@app.route('/api/v1.0/predict', methods=['POST'])\n",
    "def predict():\n",
    "    data = request.json\n",
    "    num1 = float(data.get('num1', 0))\n",
    "    num2 = float(data.get('num2', 0))\n",
    "    prediction = 1 if num1 + num2 > 5.8 else 0\n",
    "    return jsonify({\n",
    "        'prediction': prediction,\n",
    "        'features': {'num1': num1, 'num2': num2}\n",
    "    })\n",
    "\n",
    "if __name__ == '__main__':\n",
    "    app.run(debug=True)\n"
   ]
  },
  {
   "cell_type": "code",
   "execution_count": 19,
   "metadata": {},
   "outputs": [
    {
     "name": "stdout",
     "output_type": "stream",
     "text": [
      "{'features': {'num1': 1.5, 'num2': 3.5}, 'prediction': 0}\n"
     ]
    }
   ],
   "source": [
    "server = subprocess.Popen([\"flask\", \"run\"], stdout=subprocess.PIPE, stderr=subprocess.PIPE)\n",
    "\n",
    "data = {'num1': 1.5, 'num2': 3.5}\n",
    "response1 = requests.post(\"http://127.0.0.1:5000/api/v1.0/predict\", json=data)\n",
    "print(response1.json())\n",
    "\n",
    "server.kill()\n"
   ]
  }
 ],
 "metadata": {
  "kernelspec": {
   "display_name": "Python 3 (ipykernel)",
   "language": "python",
   "name": "python3"
  },
  "language_info": {
   "codemirror_mode": {
    "name": "ipython",
    "version": 3
   },
   "file_extension": ".py",
   "mimetype": "text/x-python",
   "name": "python",
   "nbconvert_exporter": "python",
   "pygments_lexer": "ipython3",
   "version": "3.10.8"
  }
 },
 "nbformat": 4,
 "nbformat_minor": 2
}
